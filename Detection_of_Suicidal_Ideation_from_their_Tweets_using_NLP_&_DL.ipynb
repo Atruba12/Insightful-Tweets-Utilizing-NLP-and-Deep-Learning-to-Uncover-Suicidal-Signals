{
  "nbformat": 4,
  "nbformat_minor": 0,
  "metadata": {
    "colab": {
      "provenance": []
    },
    "kernelspec": {
      "name": "python3",
      "display_name": "Python 3"
    },
    "language_info": {
      "name": "python"
    }
  },
  "cells": [
    {
      "cell_type": "markdown",
      "source": [
        "# **Importing Necessary Libraries**"
      ],
      "metadata": {
        "id": "0e0f5xeT8qSS"
      }
    },
    {
      "cell_type": "code",
      "execution_count": 23,
      "metadata": {
        "id": "LiAuz6qn3gS8"
      },
      "outputs": [],
      "source": [
        "import numpy as np\n",
        "import pandas as pd\n",
        "import tensorflow as tf\n",
        "import matplotlib.pyplot as plt\n",
        "from sklearn.model_selection import train_test_split\n",
        "from sklearn.feature_extraction.text import CountVectorizer\n",
        "from tensorflow.keras.models import Sequential\n",
        "from tensorflow.keras.layers import Dense, Embedding, LSTM, SpatialDropout1D\n",
        "from tensorflow.keras.preprocessing.sequence import pad_sequences\n",
        "from tensorflow.keras.preprocessing.text import Tokenizer\n",
        "from tensorflow.keras.callbacks import EarlyStopping\n",
        "from sklearn.metrics import classification_report\n"
      ]
    },
    {
      "cell_type": "markdown",
      "source": [
        "# **Exploring the Dataset**"
      ],
      "metadata": {
        "id": "5UHeINNk810r"
      }
    },
    {
      "cell_type": "code",
      "source": [
        "from google.colab import drive\n",
        "drive.mount('/content/drive')"
      ],
      "metadata": {
        "colab": {
          "base_uri": "https://localhost:8080/"
        },
        "id": "FTqeyt1Q8694",
        "outputId": "f7de6c77-2522-4fb5-8669-7d88c1a0b834"
      },
      "execution_count": 9,
      "outputs": [
        {
          "output_type": "stream",
          "name": "stdout",
          "text": [
            "Drive already mounted at /content/drive; to attempt to forcibly remount, call drive.mount(\"/content/drive\", force_remount=True).\n"
          ]
        }
      ]
    },
    {
      "cell_type": "code",
      "source": [
        "!unzip '/content/drive/MyDrive/Suicidal Tweet Dataset.zip' -d '/content/drive/MyDrive/Suicidal Tweet Dataset_unzip'"
      ],
      "metadata": {
        "colab": {
          "base_uri": "https://localhost:8080/"
        },
        "id": "SVZvKPgYIc1h",
        "outputId": "c9311a7e-a7fe-42a9-f2ab-4b30a3816509"
      },
      "execution_count": 10,
      "outputs": [
        {
          "output_type": "stream",
          "name": "stdout",
          "text": [
            "Archive:  /content/drive/MyDrive/Suicidal Tweet Dataset.zip\n",
            "  inflating: /content/drive/MyDrive/Suicidal Tweet Dataset_unzip/Suicide_Ideation_Dataset(Twitter-based).csv  \n"
          ]
        }
      ]
    },
    {
      "cell_type": "code",
      "source": [
        "# Sample dataset containing tweets labeled as suicidal or non-suicidal\n",
        "tweets_data = pd.read_csv('/content/drive/MyDrive/Suicidal Tweet Dataset_unzip/Suicide_Ideation_Dataset(Twitter-based).csv')"
      ],
      "metadata": {
        "id": "gCaEjkHKJcOr"
      },
      "execution_count": 36,
      "outputs": []
    },
    {
      "cell_type": "code",
      "source": [
        "tweets_data.head(15)"
      ],
      "metadata": {
        "colab": {
          "base_uri": "https://localhost:8080/",
          "height": 520
        },
        "id": "8TA9pT9uJobm",
        "outputId": "3ec95464-bc39-4be3-998a-15c9287bf76f"
      },
      "execution_count": 37,
      "outputs": [
        {
          "output_type": "execute_result",
          "data": {
            "text/plain": [
              "                                                Tweet                  Suicide\n",
              "0                                   making some lunch         Not Suicide post\n",
              "1                         @Alexia You want his money.         Not Suicide post\n",
              "2   @dizzyhrvy that crap took me forever to put to...  Potential Suicide post \n",
              "3   @jnaylor #kiwitweets Hey Jer! Since when did y...         Not Suicide post\n",
              "4   Trying out &quot;Delicious Library 2&quot; wit...         Not Suicide post\n",
              "5   @ValenValdez Oh, that's good to hear. But is i...         Not Suicide post\n",
              "6   @mcm180 u've got a list for fellow #hotties? Y...         Not Suicide post\n",
              "7   @jakepaul @jamescharles @LoganPaul Just becaus...  Potential Suicide post \n",
              "8           time for some warsaw beer garden chilling         Not Suicide post\n",
              "9   I hate my life lmao I hope I die soon or sumn ...  Potential Suicide post \n",
              "10  Everything your lover does for you is for her ...         Not Suicide post\n",
              "11  There is a stray cat on campus that looks like...         Not Suicide post\n",
              "12                                    is on the go...         Not Suicide post\n",
              "13  I have an awful habit of avoiding writing pape...  Potential Suicide post \n",
              "14  @rivensky Haha. Well I have more but I don't h...         Not Suicide post"
            ],
            "text/html": [
              "\n",
              "  <div id=\"df-6441877c-e073-4ec7-a9cb-169186bfefad\" class=\"colab-df-container\">\n",
              "    <div>\n",
              "<style scoped>\n",
              "    .dataframe tbody tr th:only-of-type {\n",
              "        vertical-align: middle;\n",
              "    }\n",
              "\n",
              "    .dataframe tbody tr th {\n",
              "        vertical-align: top;\n",
              "    }\n",
              "\n",
              "    .dataframe thead th {\n",
              "        text-align: right;\n",
              "    }\n",
              "</style>\n",
              "<table border=\"1\" class=\"dataframe\">\n",
              "  <thead>\n",
              "    <tr style=\"text-align: right;\">\n",
              "      <th></th>\n",
              "      <th>Tweet</th>\n",
              "      <th>Suicide</th>\n",
              "    </tr>\n",
              "  </thead>\n",
              "  <tbody>\n",
              "    <tr>\n",
              "      <th>0</th>\n",
              "      <td>making some lunch</td>\n",
              "      <td>Not Suicide post</td>\n",
              "    </tr>\n",
              "    <tr>\n",
              "      <th>1</th>\n",
              "      <td>@Alexia You want his money.</td>\n",
              "      <td>Not Suicide post</td>\n",
              "    </tr>\n",
              "    <tr>\n",
              "      <th>2</th>\n",
              "      <td>@dizzyhrvy that crap took me forever to put to...</td>\n",
              "      <td>Potential Suicide post</td>\n",
              "    </tr>\n",
              "    <tr>\n",
              "      <th>3</th>\n",
              "      <td>@jnaylor #kiwitweets Hey Jer! Since when did y...</td>\n",
              "      <td>Not Suicide post</td>\n",
              "    </tr>\n",
              "    <tr>\n",
              "      <th>4</th>\n",
              "      <td>Trying out &amp;quot;Delicious Library 2&amp;quot; wit...</td>\n",
              "      <td>Not Suicide post</td>\n",
              "    </tr>\n",
              "    <tr>\n",
              "      <th>5</th>\n",
              "      <td>@ValenValdez Oh, that's good to hear. But is i...</td>\n",
              "      <td>Not Suicide post</td>\n",
              "    </tr>\n",
              "    <tr>\n",
              "      <th>6</th>\n",
              "      <td>@mcm180 u've got a list for fellow #hotties? Y...</td>\n",
              "      <td>Not Suicide post</td>\n",
              "    </tr>\n",
              "    <tr>\n",
              "      <th>7</th>\n",
              "      <td>@jakepaul @jamescharles @LoganPaul Just becaus...</td>\n",
              "      <td>Potential Suicide post</td>\n",
              "    </tr>\n",
              "    <tr>\n",
              "      <th>8</th>\n",
              "      <td>time for some warsaw beer garden chilling</td>\n",
              "      <td>Not Suicide post</td>\n",
              "    </tr>\n",
              "    <tr>\n",
              "      <th>9</th>\n",
              "      <td>I hate my life lmao I hope I die soon or sumn ...</td>\n",
              "      <td>Potential Suicide post</td>\n",
              "    </tr>\n",
              "    <tr>\n",
              "      <th>10</th>\n",
              "      <td>Everything your lover does for you is for her ...</td>\n",
              "      <td>Not Suicide post</td>\n",
              "    </tr>\n",
              "    <tr>\n",
              "      <th>11</th>\n",
              "      <td>There is a stray cat on campus that looks like...</td>\n",
              "      <td>Not Suicide post</td>\n",
              "    </tr>\n",
              "    <tr>\n",
              "      <th>12</th>\n",
              "      <td>is on the go...</td>\n",
              "      <td>Not Suicide post</td>\n",
              "    </tr>\n",
              "    <tr>\n",
              "      <th>13</th>\n",
              "      <td>I have an awful habit of avoiding writing pape...</td>\n",
              "      <td>Potential Suicide post</td>\n",
              "    </tr>\n",
              "    <tr>\n",
              "      <th>14</th>\n",
              "      <td>@rivensky Haha. Well I have more but I don't h...</td>\n",
              "      <td>Not Suicide post</td>\n",
              "    </tr>\n",
              "  </tbody>\n",
              "</table>\n",
              "</div>\n",
              "    <div class=\"colab-df-buttons\">\n",
              "\n",
              "  <div class=\"colab-df-container\">\n",
              "    <button class=\"colab-df-convert\" onclick=\"convertToInteractive('df-6441877c-e073-4ec7-a9cb-169186bfefad')\"\n",
              "            title=\"Convert this dataframe to an interactive table.\"\n",
              "            style=\"display:none;\">\n",
              "\n",
              "  <svg xmlns=\"http://www.w3.org/2000/svg\" height=\"24px\" viewBox=\"0 -960 960 960\">\n",
              "    <path d=\"M120-120v-720h720v720H120Zm60-500h600v-160H180v160Zm220 220h160v-160H400v160Zm0 220h160v-160H400v160ZM180-400h160v-160H180v160Zm440 0h160v-160H620v160ZM180-180h160v-160H180v160Zm440 0h160v-160H620v160Z\"/>\n",
              "  </svg>\n",
              "    </button>\n",
              "\n",
              "  <style>\n",
              "    .colab-df-container {\n",
              "      display:flex;\n",
              "      gap: 12px;\n",
              "    }\n",
              "\n",
              "    .colab-df-convert {\n",
              "      background-color: #E8F0FE;\n",
              "      border: none;\n",
              "      border-radius: 50%;\n",
              "      cursor: pointer;\n",
              "      display: none;\n",
              "      fill: #1967D2;\n",
              "      height: 32px;\n",
              "      padding: 0 0 0 0;\n",
              "      width: 32px;\n",
              "    }\n",
              "\n",
              "    .colab-df-convert:hover {\n",
              "      background-color: #E2EBFA;\n",
              "      box-shadow: 0px 1px 2px rgba(60, 64, 67, 0.3), 0px 1px 3px 1px rgba(60, 64, 67, 0.15);\n",
              "      fill: #174EA6;\n",
              "    }\n",
              "\n",
              "    .colab-df-buttons div {\n",
              "      margin-bottom: 4px;\n",
              "    }\n",
              "\n",
              "    [theme=dark] .colab-df-convert {\n",
              "      background-color: #3B4455;\n",
              "      fill: #D2E3FC;\n",
              "    }\n",
              "\n",
              "    [theme=dark] .colab-df-convert:hover {\n",
              "      background-color: #434B5C;\n",
              "      box-shadow: 0px 1px 3px 1px rgba(0, 0, 0, 0.15);\n",
              "      filter: drop-shadow(0px 1px 2px rgba(0, 0, 0, 0.3));\n",
              "      fill: #FFFFFF;\n",
              "    }\n",
              "  </style>\n",
              "\n",
              "    <script>\n",
              "      const buttonEl =\n",
              "        document.querySelector('#df-6441877c-e073-4ec7-a9cb-169186bfefad button.colab-df-convert');\n",
              "      buttonEl.style.display =\n",
              "        google.colab.kernel.accessAllowed ? 'block' : 'none';\n",
              "\n",
              "      async function convertToInteractive(key) {\n",
              "        const element = document.querySelector('#df-6441877c-e073-4ec7-a9cb-169186bfefad');\n",
              "        const dataTable =\n",
              "          await google.colab.kernel.invokeFunction('convertToInteractive',\n",
              "                                                    [key], {});\n",
              "        if (!dataTable) return;\n",
              "\n",
              "        const docLinkHtml = 'Like what you see? Visit the ' +\n",
              "          '<a target=\"_blank\" href=https://colab.research.google.com/notebooks/data_table.ipynb>data table notebook</a>'\n",
              "          + ' to learn more about interactive tables.';\n",
              "        element.innerHTML = '';\n",
              "        dataTable['output_type'] = 'display_data';\n",
              "        await google.colab.output.renderOutput(dataTable, element);\n",
              "        const docLink = document.createElement('div');\n",
              "        docLink.innerHTML = docLinkHtml;\n",
              "        element.appendChild(docLink);\n",
              "      }\n",
              "    </script>\n",
              "  </div>\n",
              "\n",
              "\n",
              "<div id=\"df-db8179c3-4fa7-4cab-be17-b45396061038\">\n",
              "  <button class=\"colab-df-quickchart\" onclick=\"quickchart('df-db8179c3-4fa7-4cab-be17-b45396061038')\"\n",
              "            title=\"Suggest charts\"\n",
              "            style=\"display:none;\">\n",
              "\n",
              "<svg xmlns=\"http://www.w3.org/2000/svg\" height=\"24px\"viewBox=\"0 0 24 24\"\n",
              "     width=\"24px\">\n",
              "    <g>\n",
              "        <path d=\"M19 3H5c-1.1 0-2 .9-2 2v14c0 1.1.9 2 2 2h14c1.1 0 2-.9 2-2V5c0-1.1-.9-2-2-2zM9 17H7v-7h2v7zm4 0h-2V7h2v10zm4 0h-2v-4h2v4z\"/>\n",
              "    </g>\n",
              "</svg>\n",
              "  </button>\n",
              "\n",
              "<style>\n",
              "  .colab-df-quickchart {\n",
              "      --bg-color: #E8F0FE;\n",
              "      --fill-color: #1967D2;\n",
              "      --hover-bg-color: #E2EBFA;\n",
              "      --hover-fill-color: #174EA6;\n",
              "      --disabled-fill-color: #AAA;\n",
              "      --disabled-bg-color: #DDD;\n",
              "  }\n",
              "\n",
              "  [theme=dark] .colab-df-quickchart {\n",
              "      --bg-color: #3B4455;\n",
              "      --fill-color: #D2E3FC;\n",
              "      --hover-bg-color: #434B5C;\n",
              "      --hover-fill-color: #FFFFFF;\n",
              "      --disabled-bg-color: #3B4455;\n",
              "      --disabled-fill-color: #666;\n",
              "  }\n",
              "\n",
              "  .colab-df-quickchart {\n",
              "    background-color: var(--bg-color);\n",
              "    border: none;\n",
              "    border-radius: 50%;\n",
              "    cursor: pointer;\n",
              "    display: none;\n",
              "    fill: var(--fill-color);\n",
              "    height: 32px;\n",
              "    padding: 0;\n",
              "    width: 32px;\n",
              "  }\n",
              "\n",
              "  .colab-df-quickchart:hover {\n",
              "    background-color: var(--hover-bg-color);\n",
              "    box-shadow: 0 1px 2px rgba(60, 64, 67, 0.3), 0 1px 3px 1px rgba(60, 64, 67, 0.15);\n",
              "    fill: var(--button-hover-fill-color);\n",
              "  }\n",
              "\n",
              "  .colab-df-quickchart-complete:disabled,\n",
              "  .colab-df-quickchart-complete:disabled:hover {\n",
              "    background-color: var(--disabled-bg-color);\n",
              "    fill: var(--disabled-fill-color);\n",
              "    box-shadow: none;\n",
              "  }\n",
              "\n",
              "  .colab-df-spinner {\n",
              "    border: 2px solid var(--fill-color);\n",
              "    border-color: transparent;\n",
              "    border-bottom-color: var(--fill-color);\n",
              "    animation:\n",
              "      spin 1s steps(1) infinite;\n",
              "  }\n",
              "\n",
              "  @keyframes spin {\n",
              "    0% {\n",
              "      border-color: transparent;\n",
              "      border-bottom-color: var(--fill-color);\n",
              "      border-left-color: var(--fill-color);\n",
              "    }\n",
              "    20% {\n",
              "      border-color: transparent;\n",
              "      border-left-color: var(--fill-color);\n",
              "      border-top-color: var(--fill-color);\n",
              "    }\n",
              "    30% {\n",
              "      border-color: transparent;\n",
              "      border-left-color: var(--fill-color);\n",
              "      border-top-color: var(--fill-color);\n",
              "      border-right-color: var(--fill-color);\n",
              "    }\n",
              "    40% {\n",
              "      border-color: transparent;\n",
              "      border-right-color: var(--fill-color);\n",
              "      border-top-color: var(--fill-color);\n",
              "    }\n",
              "    60% {\n",
              "      border-color: transparent;\n",
              "      border-right-color: var(--fill-color);\n",
              "    }\n",
              "    80% {\n",
              "      border-color: transparent;\n",
              "      border-right-color: var(--fill-color);\n",
              "      border-bottom-color: var(--fill-color);\n",
              "    }\n",
              "    90% {\n",
              "      border-color: transparent;\n",
              "      border-bottom-color: var(--fill-color);\n",
              "    }\n",
              "  }\n",
              "</style>\n",
              "\n",
              "  <script>\n",
              "    async function quickchart(key) {\n",
              "      const quickchartButtonEl =\n",
              "        document.querySelector('#' + key + ' button');\n",
              "      quickchartButtonEl.disabled = true;  // To prevent multiple clicks.\n",
              "      quickchartButtonEl.classList.add('colab-df-spinner');\n",
              "      try {\n",
              "        const charts = await google.colab.kernel.invokeFunction(\n",
              "            'suggestCharts', [key], {});\n",
              "      } catch (error) {\n",
              "        console.error('Error during call to suggestCharts:', error);\n",
              "      }\n",
              "      quickchartButtonEl.classList.remove('colab-df-spinner');\n",
              "      quickchartButtonEl.classList.add('colab-df-quickchart-complete');\n",
              "    }\n",
              "    (() => {\n",
              "      let quickchartButtonEl =\n",
              "        document.querySelector('#df-db8179c3-4fa7-4cab-be17-b45396061038 button');\n",
              "      quickchartButtonEl.style.display =\n",
              "        google.colab.kernel.accessAllowed ? 'block' : 'none';\n",
              "    })();\n",
              "  </script>\n",
              "</div>\n",
              "\n",
              "    </div>\n",
              "  </div>\n"
            ],
            "application/vnd.google.colaboratory.intrinsic+json": {
              "type": "dataframe",
              "variable_name": "tweets_data",
              "summary": "{\n  \"name\": \"tweets_data\",\n  \"rows\": 1787,\n  \"fields\": [\n    {\n      \"column\": \"Tweet\",\n      \"properties\": {\n        \"dtype\": \"string\",\n        \"num_unique_values\": 1777,\n        \"samples\": [\n          \"@Farbelowaverag1,,And I just dont want to fucking be here anymore. Please someone just fucking end me because I know itll be worse for everyone if I do it myself and fuck do I want to but please please someone just kill me please\",\n          \"RT @cparham65: Liberals say conservatives are evil. NOTHING\\u00e2\\u0080\\u0099s further from the truth! We believe in \\u00e2\\u0080\\u009clive &amp; let live\\u00e2\\u0080\\u009d. Libs think that big\\u00e2\\u0080\\u00a6\",\n          \"@rowanberry ohhh sending loads of Positive vibes your way\"\n        ],\n        \"semantic_type\": \"\",\n        \"description\": \"\"\n      }\n    },\n    {\n      \"column\": \"Suicide\",\n      \"properties\": {\n        \"dtype\": \"category\",\n        \"num_unique_values\": 2,\n        \"samples\": [\n          \"Potential Suicide post \",\n          \"Not Suicide post\"\n        ],\n        \"semantic_type\": \"\",\n        \"description\": \"\"\n      }\n    }\n  ]\n}"
            }
          },
          "metadata": {},
          "execution_count": 37
        }
      ]
    },
    {
      "cell_type": "code",
      "source": [
        "import random\n",
        "index = random.randrange(0, tweets_data.shape[0])\n",
        "print(\"Tweet is:\\n\", tweets_data.iloc[index]['Tweet'])\n",
        "print(\"Sentiment is:\\n\", tweets_data.iloc[index]['Suicide'])"
      ],
      "metadata": {
        "colab": {
          "base_uri": "https://localhost:8080/"
        },
        "id": "j_PmZwEDLxQ9",
        "outputId": "136c8ec0-cd6b-43dc-e58a-6da599cb1eae"
      },
      "execution_count": 38,
      "outputs": [
        {
          "output_type": "stream",
          "name": "stdout",
          "text": [
            "Tweet is:\n",
            " gettin off the internet... gonna finish my hair\n",
            "Sentiment is:\n",
            " Not Suicide post\n"
          ]
        }
      ]
    },
    {
      "cell_type": "markdown",
      "source": [
        "# **Total Tweets in Dataset**"
      ],
      "metadata": {
        "id": "JZm3WCKVMo5H"
      }
    },
    {
      "cell_type": "code",
      "source": [
        "num_tweets = tweets_data.shape[0]\n",
        "print(\"Total number of tweets in the dataset: \", num_tweets)"
      ],
      "metadata": {
        "colab": {
          "base_uri": "https://localhost:8080/"
        },
        "id": "Xw7FxUSpMtf5",
        "outputId": "508af3f3-5267-4c1d-e479-81a2434b73f1"
      },
      "execution_count": 39,
      "outputs": [
        {
          "output_type": "stream",
          "name": "stdout",
          "text": [
            "Total number of tweets in the dataset:  1787\n"
          ]
        }
      ]
    },
    {
      "cell_type": "markdown",
      "source": [
        "# **Total Tweets of each Class**"
      ],
      "metadata": {
        "id": "qMMgWxvdM-dk"
      }
    },
    {
      "cell_type": "code",
      "source": [
        "not_suicide = tweets_data[tweets_data['Suicide']=='Not Suicide post']['Suicide'].count()"
      ],
      "metadata": {
        "id": "-NSxVqrSNExo"
      },
      "execution_count": 40,
      "outputs": []
    },
    {
      "cell_type": "code",
      "source": [
        "potential_suicide = tweets_data[tweets_data['Suicide']=='Potential Suicide post ']['Suicide'].count()"
      ],
      "metadata": {
        "id": "QVIwSJ3LMmKQ"
      },
      "execution_count": 41,
      "outputs": []
    },
    {
      "cell_type": "code",
      "source": [
        "print(\"Number of not suicide tweets: \", not_suicide)\n",
        "print(\"Number of potential suicide tweets: \", potential_suicide)"
      ],
      "metadata": {
        "colab": {
          "base_uri": "https://localhost:8080/"
        },
        "id": "SUHZbIbFMGUh",
        "outputId": "cd9ad0c4-41a6-4035-acce-4eeb8ca211d1"
      },
      "execution_count": 42,
      "outputs": [
        {
          "output_type": "stream",
          "name": "stdout",
          "text": [
            "Number of not suicide tweets:  1127\n",
            "Number of potential suicide tweets:  660\n"
          ]
        }
      ]
    },
    {
      "cell_type": "markdown",
      "source": [
        "# **Total Ratio of State of Tweets: Potential Suicide vs Not Suicide**"
      ],
      "metadata": {
        "id": "W_ofQOIMNqor"
      }
    },
    {
      "cell_type": "markdown",
      "source": [
        "(1) **BAR GRAPH**"
      ],
      "metadata": {
        "id": "LQbB4LTOO1J3"
      }
    },
    {
      "cell_type": "code",
      "source": [
        "x = ['not suicide post', 'potential suicide post', ]\n",
        "y = [not_suicide, potential_suicide]"
      ],
      "metadata": {
        "id": "QMilXQvCN6bW"
      },
      "execution_count": 43,
      "outputs": []
    },
    {
      "cell_type": "code",
      "source": [
        "plt.bar(x, y, color=['r', 'y'])\n",
        "plt.title('Bar graph of tweets class')\n",
        "plt.show()"
      ],
      "metadata": {
        "colab": {
          "base_uri": "https://localhost:8080/",
          "height": 452
        },
        "id": "DyBZvQmROMcX",
        "outputId": "4ca114cc-275f-4688-8306-6ab897079a72"
      },
      "execution_count": 44,
      "outputs": [
        {
          "output_type": "display_data",
          "data": {
            "text/plain": [
              "<Figure size 640x480 with 1 Axes>"
            ],
            "image/png": "[encoded data removed]"
          },
          "metadata": {}
        }
      ]
    },
    {
      "cell_type": "markdown",
      "source": [
        "(2) **PIE CHART**"
      ],
      "metadata": {
        "id": "hRmYirgwO8CU"
      }
    },
    {
      "cell_type": "code",
      "source": [
        "plt.pie(y, labels=x, colors=['y', 'g'])\n",
        "plt.title(\"Pie chart of tweets class\")\n",
        "plt.show()"
      ],
      "metadata": {
        "colab": {
          "base_uri": "https://localhost:8080/",
          "height": 428
        },
        "id": "cvY7cR8yOoRN",
        "outputId": "803e7899-b659-4cb5-e90c-4184ac5126e4"
      },
      "execution_count": 45,
      "outputs": [
        {
          "output_type": "display_data",
          "data": {
            "text/plain": [
              "<Figure size 640x480 with 1 Axes>"
            ],
            "image/png": "[encoded data removed]"
          },
          "metadata": {}
        }
      ]
    },
    {
      "cell_type": "markdown",
      "source": [
        "# **One-Hot Encoding**"
      ],
      "metadata": {
        "id": "5H7-vIlHPqfe"
      }
    },
    {
      "cell_type": "code",
      "source": [
        "tweets_data['Suicide'] = tweets_data['Suicide'].replace({'Not Suicide post': 0, 'Potential Suicide post ': 1})"
      ],
      "metadata": {
        "id": "1l6YLKj8PvZ7"
      },
      "execution_count": 46,
      "outputs": []
    },
    {
      "cell_type": "code",
      "source": [
        "tweets_data.head(15)"
      ],
      "metadata": {
        "colab": {
          "base_uri": "https://localhost:8080/",
          "height": 520
        },
        "id": "lRRvi-MbP3fZ",
        "outputId": "a4b3152f-b993-4177-a415-ac850f611442"
      },
      "execution_count": 47,
      "outputs": [
        {
          "output_type": "execute_result",
          "data": {
            "text/plain": [
              "                                                Tweet  Suicide\n",
              "0                                   making some lunch        0\n",
              "1                         @Alexia You want his money.        0\n",
              "2   @dizzyhrvy that crap took me forever to put to...        1\n",
              "3   @jnaylor #kiwitweets Hey Jer! Since when did y...        0\n",
              "4   Trying out &quot;Delicious Library 2&quot; wit...        0\n",
              "5   @ValenValdez Oh, that's good to hear. But is i...        0\n",
              "6   @mcm180 u've got a list for fellow #hotties? Y...        0\n",
              "7   @jakepaul @jamescharles @LoganPaul Just becaus...        1\n",
              "8           time for some warsaw beer garden chilling        0\n",
              "9   I hate my life lmao I hope I die soon or sumn ...        1\n",
              "10  Everything your lover does for you is for her ...        0\n",
              "11  There is a stray cat on campus that looks like...        0\n",
              "12                                    is on the go...        0\n",
              "13  I have an awful habit of avoiding writing pape...        1\n",
              "14  @rivensky Haha. Well I have more but I don't h...        0"
            ],
            "text/html": [
              "\n",
              "  <div id=\"df-a8beb7c4-9746-4b8d-a733-a215c1973e85\" class=\"colab-df-container\">\n",
              "    <div>\n",
              "<style scoped>\n",
              "    .dataframe tbody tr th:only-of-type {\n",
              "        vertical-align: middle;\n",
              "    }\n",
              "\n",
              "    .dataframe tbody tr th {\n",
              "        vertical-align: top;\n",
              "    }\n",
              "\n",
              "    .dataframe thead th {\n",
              "        text-align: right;\n",
              "    }\n",
              "</style>\n",
              "<table border=\"1\" class=\"dataframe\">\n",
              "  <thead>\n",
              "    <tr style=\"text-align: right;\">\n",
              "      <th></th>\n",
              "      <th>Tweet</th>\n",
              "      <th>Suicide</th>\n",
              "    </tr>\n",
              "  </thead>\n",
              "  <tbody>\n",
              "    <tr>\n",
              "      <th>0</th>\n",
              "      <td>making some lunch</td>\n",
              "      <td>0</td>\n",
              "    </tr>\n",
              "    <tr>\n",
              "      <th>1</th>\n",
              "      <td>@Alexia You want his money.</td>\n",
              "      <td>0</td>\n",
              "    </tr>\n",
              "    <tr>\n",
              "      <th>2</th>\n",
              "      <td>@dizzyhrvy that crap took me forever to put to...</td>\n",
              "      <td>1</td>\n",
              "    </tr>\n",
              "    <tr>\n",
              "      <th>3</th>\n",
              "      <td>@jnaylor #kiwitweets Hey Jer! Since when did y...</td>\n",
              "      <td>0</td>\n",
              "    </tr>\n",
              "    <tr>\n",
              "      <th>4</th>\n",
              "      <td>Trying out &amp;quot;Delicious Library 2&amp;quot; wit...</td>\n",
              "      <td>0</td>\n",
              "    </tr>\n",
              "    <tr>\n",
              "      <th>5</th>\n",
              "      <td>@ValenValdez Oh, that's good to hear. But is i...</td>\n",
              "      <td>0</td>\n",
              "    </tr>\n",
              "    <tr>\n",
              "      <th>6</th>\n",
              "      <td>@mcm180 u've got a list for fellow #hotties? Y...</td>\n",
              "      <td>0</td>\n",
              "    </tr>\n",
              "    <tr>\n",
              "      <th>7</th>\n",
              "      <td>@jakepaul @jamescharles @LoganPaul Just becaus...</td>\n",
              "      <td>1</td>\n",
              "    </tr>\n",
              "    <tr>\n",
              "      <th>8</th>\n",
              "      <td>time for some warsaw beer garden chilling</td>\n",
              "      <td>0</td>\n",
              "    </tr>\n",
              "    <tr>\n",
              "      <th>9</th>\n",
              "      <td>I hate my life lmao I hope I die soon or sumn ...</td>\n",
              "      <td>1</td>\n",
              "    </tr>\n",
              "    <tr>\n",
              "      <th>10</th>\n",
              "      <td>Everything your lover does for you is for her ...</td>\n",
              "      <td>0</td>\n",
              "    </tr>\n",
              "    <tr>\n",
              "      <th>11</th>\n",
              "      <td>There is a stray cat on campus that looks like...</td>\n",
              "      <td>0</td>\n",
              "    </tr>\n",
              "    <tr>\n",
              "      <th>12</th>\n",
              "      <td>is on the go...</td>\n",
              "      <td>0</td>\n",
              "    </tr>\n",
              "    <tr>\n",
              "      <th>13</th>\n",
              "      <td>I have an awful habit of avoiding writing pape...</td>\n",
              "      <td>1</td>\n",
              "    </tr>\n",
              "    <tr>\n",
              "      <th>14</th>\n",
              "      <td>@rivensky Haha. Well I have more but I don't h...</td>\n",
              "      <td>0</td>\n",
              "    </tr>\n",
              "  </tbody>\n",
              "</table>\n",
              "</div>\n",
              "    <div class=\"colab-df-buttons\">\n",
              "\n",
              "  <div class=\"colab-df-container\">\n",
              "    <button class=\"colab-df-convert\" onclick=\"convertToInteractive('df-a8beb7c4-9746-4b8d-a733-a215c1973e85')\"\n",
              "            title=\"Convert this dataframe to an interactive table.\"\n",
              "            style=\"display:none;\">\n",
              "\n",
              "  <svg xmlns=\"http://www.w3.org/2000/svg\" height=\"24px\" viewBox=\"0 -960 960 960\">\n",
              "    <path d=\"M120-120v-720h720v720H120Zm60-500h600v-160H180v160Zm220 220h160v-160H400v160Zm0 220h160v-160H400v160ZM180-400h160v-160H180v160Zm440 0h160v-160H620v160ZM180-180h160v-160H180v160Zm440 0h160v-160H620v160Z\"/>\n",
              "  </svg>\n",
              "    </button>\n",
              "\n",
              "  <style>\n",
              "    .colab-df-container {\n",
              "      display:flex;\n",
              "      gap: 12px;\n",
              "    }\n",
              "\n",
              "    .colab-df-convert {\n",
              "      background-color: #E8F0FE;\n",
              "      border: none;\n",
              "      border-radius: 50%;\n",
              "      cursor: pointer;\n",
              "      display: none;\n",
              "      fill: #1967D2;\n",
              "      height: 32px;\n",
              "      padding: 0 0 0 0;\n",
              "      width: 32px;\n",
              "    }\n",
              "\n",
              "    .colab-df-convert:hover {\n",
              "      background-color: #E2EBFA;\n",
              "      box-shadow: 0px 1px 2px rgba(60, 64, 67, 0.3), 0px 1px 3px 1px rgba(60, 64, 67, 0.15);\n",
              "      fill: #174EA6;\n",
              "    }\n",
              "\n",
              "    .colab-df-buttons div {\n",
              "      margin-bottom: 4px;\n",
              "    }\n",
              "\n",
              "    [theme=dark] .colab-df-convert {\n",
              "      background-color: #3B4455;\n",
              "      fill: #D2E3FC;\n",
              "    }\n",
              "\n",
              "    [theme=dark] .colab-df-convert:hover {\n",
              "      background-color: #434B5C;\n",
              "      box-shadow: 0px 1px 3px 1px rgba(0, 0, 0, 0.15);\n",
              "      filter: drop-shadow(0px 1px 2px rgba(0, 0, 0, 0.3));\n",
              "      fill: #FFFFFF;\n",
              "    }\n",
              "  </style>\n",
              "\n",
              "    <script>\n",
              "      const buttonEl =\n",
              "        document.querySelector('#df-a8beb7c4-9746-4b8d-a733-a215c1973e85 button.colab-df-convert');\n",
              "      buttonEl.style.display =\n",
              "        google.colab.kernel.accessAllowed ? 'block' : 'none';\n",
              "\n",
              "      async function convertToInteractive(key) {\n",
              "        const element = document.querySelector('#df-a8beb7c4-9746-4b8d-a733-a215c1973e85');\n",
              "        const dataTable =\n",
              "          await google.colab.kernel.invokeFunction('convertToInteractive',\n",
              "                                                    [key], {});\n",
              "        if (!dataTable) return;\n",
              "\n",
              "        const docLinkHtml = 'Like what you see? Visit the ' +\n",
              "          '<a target=\"_blank\" href=https://colab.research.google.com/notebooks/data_table.ipynb>data table notebook</a>'\n",
              "          + ' to learn more about interactive tables.';\n",
              "        element.innerHTML = '';\n",
              "        dataTable['output_type'] = 'display_data';\n",
              "        await google.colab.output.renderOutput(dataTable, element);\n",
              "        const docLink = document.createElement('div');\n",
              "        docLink.innerHTML = docLinkHtml;\n",
              "        element.appendChild(docLink);\n",
              "      }\n",
              "    </script>\n",
              "  </div>\n",
              "\n",
              "\n",
              "<div id=\"df-de5414e2-1b66-4cec-978f-28af5ba9d83b\">\n",
              "  <button class=\"colab-df-quickchart\" onclick=\"quickchart('df-de5414e2-1b66-4cec-978f-28af5ba9d83b')\"\n",
              "            title=\"Suggest charts\"\n",
              "            style=\"display:none;\">\n",
              "\n",
              "<svg xmlns=\"http://www.w3.org/2000/svg\" height=\"24px\"viewBox=\"0 0 24 24\"\n",
              "     width=\"24px\">\n",
              "    <g>\n",
              "        <path d=\"M19 3H5c-1.1 0-2 .9-2 2v14c0 1.1.9 2 2 2h14c1.1 0 2-.9 2-2V5c0-1.1-.9-2-2-2zM9 17H7v-7h2v7zm4 0h-2V7h2v10zm4 0h-2v-4h2v4z\"/>\n",
              "    </g>\n",
              "</svg>\n",
              "  </button>\n",
              "\n",
              "<style>\n",
              "  .colab-df-quickchart {\n",
              "      --bg-color: #E8F0FE;\n",
              "      --fill-color: #1967D2;\n",
              "      --hover-bg-color: #E2EBFA;\n",
              "      --hover-fill-color: #174EA6;\n",
              "      --disabled-fill-color: #AAA;\n",
              "      --disabled-bg-color: #DDD;\n",
              "  }\n",
              "\n",
              "  [theme=dark] .colab-df-quickchart {\n",
              "      --bg-color: #3B4455;\n",
              "      --fill-color: #D2E3FC;\n",
              "      --hover-bg-color: #434B5C;\n",
              "      --hover-fill-color: #FFFFFF;\n",
              "      --disabled-bg-color: #3B4455;\n",
              "      --disabled-fill-color: #666;\n",
              "  }\n",
              "\n",
              "  .colab-df-quickchart {\n",
              "    background-color: var(--bg-color);\n",
              "    border: none;\n",
              "    border-radius: 50%;\n",
              "    cursor: pointer;\n",
              "    display: none;\n",
              "    fill: var(--fill-color);\n",
              "    height: 32px;\n",
              "    padding: 0;\n",
              "    width: 32px;\n",
              "  }\n",
              "\n",
              "  .colab-df-quickchart:hover {\n",
              "    background-color: var(--hover-bg-color);\n",
              "    box-shadow: 0 1px 2px rgba(60, 64, 67, 0.3), 0 1px 3px 1px rgba(60, 64, 67, 0.15);\n",
              "    fill: var(--button-hover-fill-color);\n",
              "  }\n",
              "\n",
              "  .colab-df-quickchart-complete:disabled,\n",
              "  .colab-df-quickchart-complete:disabled:hover {\n",
              "    background-color: var(--disabled-bg-color);\n",
              "    fill: var(--disabled-fill-color);\n",
              "    box-shadow: none;\n",
              "  }\n",
              "\n",
              "  .colab-df-spinner {\n",
              "    border: 2px solid var(--fill-color);\n",
              "    border-color: transparent;\n",
              "    border-bottom-color: var(--fill-color);\n",
              "    animation:\n",
              "      spin 1s steps(1) infinite;\n",
              "  }\n",
              "\n",
              "  @keyframes spin {\n",
              "    0% {\n",
              "      border-color: transparent;\n",
              "      border-bottom-color: var(--fill-color);\n",
              "      border-left-color: var(--fill-color);\n",
              "    }\n",
              "    20% {\n",
              "      border-color: transparent;\n",
              "      border-left-color: var(--fill-color);\n",
              "      border-top-color: var(--fill-color);\n",
              "    }\n",
              "    30% {\n",
              "      border-color: transparent;\n",
              "      border-left-color: var(--fill-color);\n",
              "      border-top-color: var(--fill-color);\n",
              "      border-right-color: var(--fill-color);\n",
              "    }\n",
              "    40% {\n",
              "      border-color: transparent;\n",
              "      border-right-color: var(--fill-color);\n",
              "      border-top-color: var(--fill-color);\n",
              "    }\n",
              "    60% {\n",
              "      border-color: transparent;\n",
              "      border-right-color: var(--fill-color);\n",
              "    }\n",
              "    80% {\n",
              "      border-color: transparent;\n",
              "      border-right-color: var(--fill-color);\n",
              "      border-bottom-color: var(--fill-color);\n",
              "    }\n",
              "    90% {\n",
              "      border-color: transparent;\n",
              "      border-bottom-color: var(--fill-color);\n",
              "    }\n",
              "  }\n",
              "</style>\n",
              "\n",
              "  <script>\n",
              "    async function quickchart(key) {\n",
              "      const quickchartButtonEl =\n",
              "        document.querySelector('#' + key + ' button');\n",
              "      quickchartButtonEl.disabled = true;  // To prevent multiple clicks.\n",
              "      quickchartButtonEl.classList.add('colab-df-spinner');\n",
              "      try {\n",
              "        const charts = await google.colab.kernel.invokeFunction(\n",
              "            'suggestCharts', [key], {});\n",
              "      } catch (error) {\n",
              "        console.error('Error during call to suggestCharts:', error);\n",
              "      }\n",
              "      quickchartButtonEl.classList.remove('colab-df-spinner');\n",
              "      quickchartButtonEl.classList.add('colab-df-quickchart-complete');\n",
              "    }\n",
              "    (() => {\n",
              "      let quickchartButtonEl =\n",
              "        document.querySelector('#df-de5414e2-1b66-4cec-978f-28af5ba9d83b button');\n",
              "      quickchartButtonEl.style.display =\n",
              "        google.colab.kernel.accessAllowed ? 'block' : 'none';\n",
              "    })();\n",
              "  </script>\n",
              "</div>\n",
              "\n",
              "    </div>\n",
              "  </div>\n"
            ],
            "application/vnd.google.colaboratory.intrinsic+json": {
              "type": "dataframe",
              "variable_name": "tweets_data",
              "summary": "{\n  \"name\": \"tweets_data\",\n  \"rows\": 1787,\n  \"fields\": [\n    {\n      \"column\": \"Tweet\",\n      \"properties\": {\n        \"dtype\": \"string\",\n        \"num_unique_values\": 1777,\n        \"samples\": [\n          \"@Farbelowaverag1,,And I just dont want to fucking be here anymore. Please someone just fucking end me because I know itll be worse for everyone if I do it myself and fuck do I want to but please please someone just kill me please\",\n          \"RT @cparham65: Liberals say conservatives are evil. NOTHING\\u00e2\\u0080\\u0099s further from the truth! We believe in \\u00e2\\u0080\\u009clive &amp; let live\\u00e2\\u0080\\u009d. Libs think that big\\u00e2\\u0080\\u00a6\",\n          \"@rowanberry ohhh sending loads of Positive vibes your way\"\n        ],\n        \"semantic_type\": \"\",\n        \"description\": \"\"\n      }\n    },\n    {\n      \"column\": \"Suicide\",\n      \"properties\": {\n        \"dtype\": \"number\",\n        \"std\": 0,\n        \"min\": 0,\n        \"max\": 1,\n        \"num_unique_values\": 2,\n        \"samples\": [\n          1,\n          0\n        ],\n        \"semantic_type\": \"\",\n        \"description\": \"\"\n      }\n    }\n  ]\n}"
            }
          },
          "metadata": {},
          "execution_count": 47
        }
      ]
    },
    {
      "cell_type": "code",
      "source": [
        "print(\"Not Suicide post: \", tweets_data[tweets_data['Suicide']==0]['Suicide'].count())"
      ],
      "metadata": {
        "colab": {
          "base_uri": "https://localhost:8080/"
        },
        "id": "lDtUybcAQKkI",
        "outputId": "a2dea98c-f67c-4d0c-84bb-047275e37ba1"
      },
      "execution_count": 48,
      "outputs": [
        {
          "output_type": "stream",
          "name": "stdout",
          "text": [
            "Not Suicide post:  1127\n"
          ]
        }
      ]
    },
    {
      "cell_type": "code",
      "source": [
        "print(\"Potential Suicide post:\", tweets_data[tweets_data['Suicide']==1]['Suicide'].count())"
      ],
      "metadata": {
        "colab": {
          "base_uri": "https://localhost:8080/"
        },
        "id": "D-VaRaQUQSVn",
        "outputId": "6b47c14c-bd3e-4f13-9145-c455ac509f50"
      },
      "execution_count": 49,
      "outputs": [
        {
          "output_type": "stream",
          "name": "stdout",
          "text": [
            "Potential Suicide post: 660\n"
          ]
        }
      ]
    },
    {
      "cell_type": "markdown",
      "source": [
        "# **Pre-processing the Text**"
      ],
      "metadata": {
        "id": "t4xf5jvKRFP4"
      }
    },
    {
      "cell_type": "code",
      "source": [
        "# Preprocessing the text\n",
        "#Conversion of Tweet column of dataframe to list\n",
        "tweets = tweets_data['Tweet'].astype('str')\n",
        "tweets = tweets.tolist()\n",
        "print(\"Type is: \", type(tweets))\n",
        "\n",
        "# Conversion of Suicide column of dataframe to list\n",
        "labels = tweets_data['Suicide'].tolist()\n",
        "print(\"Type is: \", type(labels))\n",
        "# Conversion of Suicide column to array\n",
        "labels = np.array(labels)"
      ],
      "metadata": {
        "colab": {
          "base_uri": "https://localhost:8080/"
        },
        "id": "inb0BP0FRnhw",
        "outputId": "1f20f0b1-2ec1-438d-cc9a-676eaa89da18"
      },
      "execution_count": 64,
      "outputs": [
        {
          "output_type": "stream",
          "name": "stdout",
          "text": [
            "Type is:  <class 'list'>\n",
            "Type is:  <class 'list'>\n"
          ]
        }
      ]
    },
    {
      "cell_type": "code",
      "source": [
        "# Random tweets from the list\n",
        "rand_index = random.randrange(0, len(tweets))\n",
        "print(\"Tweet is: \\n\", tweets[rand_index])\n",
        "if labels[rand_index]==0:\n",
        "    print(\"Not Suicide(0)\")\n",
        "else:\n",
        "    print(\"Potential Suicide(1)\")"
      ],
      "metadata": {
        "colab": {
          "base_uri": "https://localhost:8080/"
        },
        "id": "k9ipeSxZStVR",
        "outputId": "af64c357-3971-41ce-8986-6a3606b3348a"
      },
      "execution_count": 65,
      "outputs": [
        {
          "output_type": "stream",
          "name": "stdout",
          "text": [
            "Tweet is: \n",
            " I thought Iâve hated myself before but now i really truly hate myself so god damn much.\n",
            "Potential Suicide(1)\n"
          ]
        }
      ]
    },
    {
      "cell_type": "markdown",
      "source": [
        "# **Splitting of Dataset into Train & Test**"
      ],
      "metadata": {
        "id": "0bNqB6u3Ucqr"
      }
    },
    {
      "cell_type": "code",
      "source": [
        "# Splitting data into training and testing sets\n",
        "train_tweet, test_tweet, train_label, test_label = train_test_split(tweets, labels, random_state=42, test_size=0.2)"
      ],
      "metadata": {
        "id": "vbUjEHbNUkBv"
      },
      "execution_count": 66,
      "outputs": []
    },
    {
      "cell_type": "code",
      "source": [
        "train_tweet[2]"
      ],
      "metadata": {
        "colab": {
          "base_uri": "https://localhost:8080/",
          "height": 35
        },
        "id": "GaPZkakGVSSG",
        "outputId": "86bff919-ea06-4d2a-d631-b4fb45963403"
      },
      "execution_count": 67,
      "outputs": [
        {
          "output_type": "execute_result",
          "data": {
            "text/plain": [
              "\"@margb1509 It's the same here in New Zealand too. Looking forward to them starting again already! Have a great night!\""
            ],
            "application/vnd.google.colaboratory.intrinsic+json": {
              "type": "string"
            }
          },
          "metadata": {},
          "execution_count": 67
        }
      ]
    },
    {
      "cell_type": "code",
      "source": [
        "train_label[2]"
      ],
      "metadata": {
        "colab": {
          "base_uri": "https://localhost:8080/"
        },
        "id": "Wpt-oOvUVV5D",
        "outputId": "4871281b-6d13-4ff5-86b0-f8714e17fdb7"
      },
      "execution_count": 68,
      "outputs": [
        {
          "output_type": "execute_result",
          "data": {
            "text/plain": [
              "0"
            ]
          },
          "metadata": {},
          "execution_count": 68
        }
      ]
    },
    {
      "cell_type": "markdown",
      "source": [
        "# ***Pre-processing the Textual Data into Numerical Format ***"
      ],
      "metadata": {
        "id": "Fr42kpMfV9op"
      }
    },
    {
      "cell_type": "markdown",
      "source": [
        "**I. Setting up the hyperparameters**"
      ],
      "metadata": {
        "id": "ZiOtH1HdWiGw"
      }
    },
    {
      "cell_type": "code",
      "source": [
        "words_count = []\n",
        "for i in tweets:\n",
        "    words_count.append(len(i.split()))"
      ],
      "metadata": {
        "id": "aFjAsO2LWl6U"
      },
      "execution_count": 69,
      "outputs": []
    },
    {
      "cell_type": "code",
      "source": [
        "max_length = max(words_count) # maximum number of words in a sentence, max length our sequence will be\n",
        "vocab_size = 1000 # maximum number of unique words in the dataset\n",
        "pad_type = 'post'\n",
        "trunc_type = 'pre'\n",
        "oov_tok = \"<OOV>\"\n",
        "embedding_dim = round(np.sqrt(vocab_size))"
      ],
      "metadata": {
        "id": "kH5-WII-WhdQ"
      },
      "execution_count": 70,
      "outputs": []
    },
    {
      "cell_type": "markdown",
      "source": [
        "**II. Tokenization & Padded Sequence on Train & Test Data**"
      ],
      "metadata": {
        "id": "1-ksAXSZXKbx"
      }
    },
    {
      "cell_type": "code",
      "source": [
        "tokenizer = Tokenizer(num_words=vocab_size, oov_token=oov_tok)\n",
        "tokenizer.fit_on_texts(train_tweet)\n",
        "word_indexes = tokenizer.word_index"
      ],
      "metadata": {
        "id": "hcA6Adr-WQXe"
      },
      "execution_count": 71,
      "outputs": []
    },
    {
      "cell_type": "markdown",
      "source": [
        "**(a) Train Data**"
      ],
      "metadata": {
        "id": "uL5IMPOjXbQA"
      }
    },
    {
      "cell_type": "code",
      "source": [
        "training_sequences = tokenizer.texts_to_sequences(train_tweet)\n",
        "training_padded = pad_sequences(training_sequences, maxlen=max_length,\n",
        "                               padding=pad_type, truncating=trunc_type)"
      ],
      "metadata": {
        "id": "RQoSM4G-W9Sv"
      },
      "execution_count": 72,
      "outputs": []
    },
    {
      "cell_type": "markdown",
      "source": [
        "**(b) Test Data**"
      ],
      "metadata": {
        "id": "A7WR-pGzXiU5"
      }
    },
    {
      "cell_type": "code",
      "source": [
        "testing_sequences = tokenizer.texts_to_sequences(test_tweet)\n",
        "testing_padded = pad_sequences(testing_sequences, maxlen=max_length,\n",
        "                              padding=pad_type, truncating=trunc_type)"
      ],
      "metadata": {
        "id": "B8nmTJkIXBtP"
      },
      "execution_count": 73,
      "outputs": []
    },
    {
      "cell_type": "markdown",
      "source": [
        "# **Applying Deep Learning Model**"
      ],
      "metadata": {
        "id": "9YHVnQ1WYd4x"
      }
    },
    {
      "cell_type": "code",
      "source": [
        "# Building the neural network model\n",
        "model = tf.keras.Sequential([\n",
        "    tf.keras.layers.Embedding(max_words, 16, input_length=max_length),\n",
        "    tf.keras.layers.GlobalAveragePooling1D(),\n",
        "    tf.keras.layers.Dense(16, activation='relu'),\n",
        "    tf.keras.layers.Dense(1, activation='sigmoid')\n",
        "])"
      ],
      "metadata": {
        "id": "13pWkeB2ZbJy"
      },
      "execution_count": 108,
      "outputs": []
    },
    {
      "cell_type": "code",
      "source": [
        "# Compilation of a Model\n",
        "model.compile(optimizer='adam', loss='binary_crossentropy', metrics=['accuracy'])"
      ],
      "metadata": {
        "id": "mFGX2GLMaWlX"
      },
      "execution_count": 79,
      "outputs": []
    },
    {
      "cell_type": "code",
      "source": [
        "model.summary()"
      ],
      "metadata": {
        "colab": {
          "base_uri": "https://localhost:8080/"
        },
        "id": "xi4IqWk2chvd",
        "outputId": "1b711989-917c-4691-9867-35273d64252e"
      },
      "execution_count": 84,
      "outputs": [
        {
          "output_type": "stream",
          "name": "stdout",
          "text": [
            "Model: \"sequential_1\"\n",
            "_________________________________________________________________\n",
            " Layer (type)                Output Shape              Param #   \n",
            "=================================================================\n",
            " embedding_1 (Embedding)     (None, 240, 16)           160000    \n",
            "                                                                 \n",
            " global_average_pooling1d (  (None, 16)                0         \n",
            " GlobalAveragePooling1D)                                         \n",
            "                                                                 \n",
            " dense (Dense)               (None, 16)                272       \n",
            "                                                                 \n",
            " dense_1 (Dense)             (None, 1)                 17        \n",
            "                                                                 \n",
            "=================================================================\n",
            "Total params: 160289 (626.13 KB)\n",
            "Trainable params: 160289 (626.13 KB)\n",
            "Non-trainable params: 0 (0.00 Byte)\n",
            "_________________________________________________________________\n"
          ]
        }
      ]
    },
    {
      "cell_type": "code",
      "source": [
        "# Training the model\n",
        "epochs = 30\n",
        "history = model.fit(training_padded, train_label, epochs=epochs, validation_data=(testing_padded, test_label), verbose=2)"
      ],
      "metadata": {
        "colab": {
          "base_uri": "https://localhost:8080/"
        },
        "id": "B3rzi3PfaeWX",
        "outputId": "e501c243-2c68-467b-cb30-24ef7665ace1"
      },
      "execution_count": 88,
      "outputs": [
        {
          "output_type": "stream",
          "name": "stdout",
          "text": [
            "Epoch 1/30\n",
            "45/45 - 0s - loss: 0.1125 - accuracy: 0.9685 - val_loss: 0.1759 - val_accuracy: 0.9441 - 466ms/epoch - 10ms/step\n",
            "Epoch 2/30\n",
            "45/45 - 0s - loss: 0.1082 - accuracy: 0.9727 - val_loss: 0.1720 - val_accuracy: 0.9413 - 387ms/epoch - 9ms/step\n",
            "Epoch 3/30\n",
            "45/45 - 0s - loss: 0.1037 - accuracy: 0.9755 - val_loss: 0.1706 - val_accuracy: 0.9413 - 377ms/epoch - 8ms/step\n",
            "Epoch 4/30\n",
            "45/45 - 0s - loss: 0.0998 - accuracy: 0.9727 - val_loss: 0.1727 - val_accuracy: 0.9413 - 471ms/epoch - 10ms/step\n",
            "Epoch 5/30\n",
            "45/45 - 0s - loss: 0.0976 - accuracy: 0.9748 - val_loss: 0.1766 - val_accuracy: 0.9358 - 470ms/epoch - 10ms/step\n",
            "Epoch 6/30\n",
            "45/45 - 0s - loss: 0.0962 - accuracy: 0.9783 - val_loss: 0.1662 - val_accuracy: 0.9413 - 443ms/epoch - 10ms/step\n",
            "Epoch 7/30\n",
            "45/45 - 0s - loss: 0.0906 - accuracy: 0.9755 - val_loss: 0.1637 - val_accuracy: 0.9441 - 442ms/epoch - 10ms/step\n",
            "Epoch 8/30\n",
            "45/45 - 0s - loss: 0.0878 - accuracy: 0.9776 - val_loss: 0.1625 - val_accuracy: 0.9441 - 453ms/epoch - 10ms/step\n",
            "Epoch 9/30\n",
            "45/45 - 0s - loss: 0.0874 - accuracy: 0.9797 - val_loss: 0.1630 - val_accuracy: 0.9441 - 427ms/epoch - 9ms/step\n",
            "Epoch 10/30\n",
            "45/45 - 1s - loss: 0.0839 - accuracy: 0.9769 - val_loss: 0.1661 - val_accuracy: 0.9413 - 613ms/epoch - 14ms/step\n",
            "Epoch 11/30\n",
            "45/45 - 1s - loss: 0.0814 - accuracy: 0.9804 - val_loss: 0.1847 - val_accuracy: 0.9330 - 547ms/epoch - 12ms/step\n",
            "Epoch 12/30\n",
            "45/45 - 0s - loss: 0.0804 - accuracy: 0.9790 - val_loss: 0.1578 - val_accuracy: 0.9441 - 334ms/epoch - 7ms/step\n",
            "Epoch 13/30\n",
            "45/45 - 0s - loss: 0.0773 - accuracy: 0.9825 - val_loss: 0.1571 - val_accuracy: 0.9441 - 283ms/epoch - 6ms/step\n",
            "Epoch 14/30\n",
            "45/45 - 0s - loss: 0.0751 - accuracy: 0.9818 - val_loss: 0.1618 - val_accuracy: 0.9385 - 318ms/epoch - 7ms/step\n",
            "Epoch 15/30\n",
            "45/45 - 0s - loss: 0.0731 - accuracy: 0.9818 - val_loss: 0.1574 - val_accuracy: 0.9413 - 394ms/epoch - 9ms/step\n",
            "Epoch 16/30\n",
            "45/45 - 0s - loss: 0.0730 - accuracy: 0.9818 - val_loss: 0.1583 - val_accuracy: 0.9358 - 378ms/epoch - 8ms/step\n",
            "Epoch 17/30\n",
            "45/45 - 0s - loss: 0.0699 - accuracy: 0.9853 - val_loss: 0.1633 - val_accuracy: 0.9413 - 293ms/epoch - 7ms/step\n",
            "Epoch 18/30\n",
            "45/45 - 0s - loss: 0.0689 - accuracy: 0.9818 - val_loss: 0.1536 - val_accuracy: 0.9469 - 265ms/epoch - 6ms/step\n",
            "Epoch 19/30\n",
            "45/45 - 0s - loss: 0.0658 - accuracy: 0.9860 - val_loss: 0.1609 - val_accuracy: 0.9358 - 294ms/epoch - 7ms/step\n",
            "Epoch 20/30\n",
            "45/45 - 0s - loss: 0.0650 - accuracy: 0.9853 - val_loss: 0.1719 - val_accuracy: 0.9413 - 322ms/epoch - 7ms/step\n",
            "Epoch 21/30\n",
            "45/45 - 0s - loss: 0.0633 - accuracy: 0.9860 - val_loss: 0.1554 - val_accuracy: 0.9441 - 395ms/epoch - 9ms/step\n",
            "Epoch 22/30\n",
            "45/45 - 0s - loss: 0.0613 - accuracy: 0.9867 - val_loss: 0.1570 - val_accuracy: 0.9441 - 366ms/epoch - 8ms/step\n",
            "Epoch 23/30\n",
            "45/45 - 0s - loss: 0.0622 - accuracy: 0.9839 - val_loss: 0.1662 - val_accuracy: 0.9358 - 382ms/epoch - 8ms/step\n",
            "Epoch 24/30\n",
            "45/45 - 0s - loss: 0.0575 - accuracy: 0.9874 - val_loss: 0.1678 - val_accuracy: 0.9358 - 320ms/epoch - 7ms/step\n",
            "Epoch 25/30\n",
            "45/45 - 0s - loss: 0.0564 - accuracy: 0.9888 - val_loss: 0.1535 - val_accuracy: 0.9469 - 281ms/epoch - 6ms/step\n",
            "Epoch 26/30\n",
            "45/45 - 0s - loss: 0.0554 - accuracy: 0.9881 - val_loss: 0.1543 - val_accuracy: 0.9441 - 280ms/epoch - 6ms/step\n",
            "Epoch 27/30\n",
            "45/45 - 0s - loss: 0.0543 - accuracy: 0.9888 - val_loss: 0.1518 - val_accuracy: 0.9497 - 264ms/epoch - 6ms/step\n",
            "Epoch 28/30\n",
            "45/45 - 0s - loss: 0.0526 - accuracy: 0.9902 - val_loss: 0.1646 - val_accuracy: 0.9385 - 289ms/epoch - 6ms/step\n",
            "Epoch 29/30\n",
            "45/45 - 0s - loss: 0.0517 - accuracy: 0.9902 - val_loss: 0.1554 - val_accuracy: 0.9413 - 258ms/epoch - 6ms/step\n",
            "Epoch 30/30\n",
            "45/45 - 0s - loss: 0.0505 - accuracy: 0.9895 - val_loss: 0.1515 - val_accuracy: 0.9525 - 291ms/epoch - 6ms/step\n"
          ]
        }
      ]
    },
    {
      "cell_type": "code",
      "source": [
        "# Evaluate the model\n",
        "loss, accuracy = model.evaluate(testing_padded, test_label)\n",
        "print(\"Test Loss:\", loss)\n",
        "print(\"Test Accuracy:\", accuracy)"
      ],
      "metadata": {
        "colab": {
          "base_uri": "https://localhost:8080/"
        },
        "id": "KsVFaq_HanS7",
        "outputId": "4cd6eb13-7a0c-4609-8569-0cf3d0245343"
      },
      "execution_count": 89,
      "outputs": [
        {
          "output_type": "stream",
          "name": "stdout",
          "text": [
            "12/12 [==============================] - 0s 3ms/step - loss: 0.1515 - accuracy: 0.9525\n",
            "Test Loss: 0.1514628827571869\n",
            "Test Accuracy: 0.9525139927864075\n"
          ]
        }
      ]
    },
    {
      "cell_type": "markdown",
      "source": [
        "# **Representation of Accuracy & Loss Curve of DL in Graph**"
      ],
      "metadata": {
        "id": "MgvdUKJxdyA-"
      }
    },
    {
      "cell_type": "markdown",
      "source": [
        "**(a) Accuracy Curve**"
      ],
      "metadata": {
        "id": "FZyPb5yun3h8"
      }
    },
    {
      "cell_type": "code",
      "source": [
        "def accuracy_plot(model):\n",
        "    accuracy = model.history['accuracy']\n",
        "    val_accuracy = model.history['val_accuracy']\n",
        "    epochs = range(len(history.history['accuracy']))\n",
        "\n",
        "    plt.plot(epochs, accuracy, label='training_accuracy')\n",
        "    plt.plot(epochs, val_accuracy, label='val_accuracy')\n",
        "    plt.title('accuracy')\n",
        "    plt.xlabel('epochs')\n",
        "    plt.legend()"
      ],
      "metadata": {
        "id": "3GLxjgmWd_6D"
      },
      "execution_count": 90,
      "outputs": []
    },
    {
      "cell_type": "code",
      "source": [
        "accuracy_plot(history)"
      ],
      "metadata": {
        "colab": {
          "base_uri": "https://localhost:8080/",
          "height": 472
        },
        "id": "8g-XvrJhnFtq",
        "outputId": "e3a593fd-9b38-40c2-c43d-20fe48f85029"
      },
      "execution_count": 91,
      "outputs": [
        {
          "output_type": "display_data",
          "data": {
            "text/plain": [
              "<Figure size 640x480 with 1 Axes>"
            ],
            "image/png": "[encoded data removed]"
          },
          "metadata": {}
        }
      ]
    },
    {
      "cell_type": "markdown",
      "source": [
        "**(b) Loss Curve**"
      ],
      "metadata": {
        "id": "ifiXuJWensZH"
      }
    },
    {
      "cell_type": "code",
      "source": [
        "def loss_plot(model):\n",
        "    loss = model.history['loss']\n",
        "    val_loss = model.history['val_loss']\n",
        "    epochs = range(len(history.history['loss']))\n",
        "\n",
        "    plt.plot(epochs, loss, label='training_loss')\n",
        "    plt.plot(epochs, val_loss, label='val_loss')\n",
        "    plt.title('loss')\n",
        "    plt.xlabel('epochs')\n",
        "    plt.legend()"
      ],
      "metadata": {
        "id": "ErsirYxSnVhP"
      },
      "execution_count": 92,
      "outputs": []
    },
    {
      "cell_type": "code",
      "source": [
        "loss_plot(history)"
      ],
      "metadata": {
        "colab": {
          "base_uri": "https://localhost:8080/",
          "height": 472
        },
        "id": "m6Bd60e-ncgP",
        "outputId": "8c847944-9bbc-4864-aad7-f81d66b35b02"
      },
      "execution_count": 93,
      "outputs": [
        {
          "output_type": "display_data",
          "data": {
            "text/plain": [
              "<Figure size 640x480 with 1 Axes>"
            ],
            "image/png": "[encoded data removed]"
          },
          "metadata": {}
        }
      ]
    },
    {
      "cell_type": "markdown",
      "source": [
        "# **Model Prediction on Test Data**"
      ],
      "metadata": {
        "id": "ibHCDcJkrK9y"
      }
    },
    {
      "cell_type": "code",
      "source": [
        "import time\n",
        "import sys\n",
        "def load(count=50, filler=\"=\", delay=0.02):\n",
        "  for i in range(count + 1):\n",
        "    sys.stdout.write('\\r')\n",
        "    sys.stdout.write(\"[%s%s]\" % (filler * i, ' ' * (count - i)))\n",
        "    sys.stdout.flush()\n",
        "    time.sleep(delay)"
      ],
      "metadata": {
        "id": "VVivlqb9rXXX"
      },
      "execution_count": 99,
      "outputs": []
    },
    {
      "cell_type": "code",
      "source": [
        "def userdef_tweet():\n",
        "    custom_tweet = input(\"Enter a tweet: \")\n",
        "    print()\n",
        "    print(\"Your tweet is: \", custom_tweet)\n",
        "    sentence = []\n",
        "    sentence.append(custom_tweet)\n",
        "    test_s = tokenizer.texts_to_sequences(sentence)\n",
        "    test_p = pad_sequences(test_s, maxlen=max_length,\n",
        "                      padding=pad_type, truncating=trunc_type)\n",
        "    pred_value = model.predict(test_p)\n",
        "    print(\"Predict Value is: \", pred_value)\n",
        "    load(filler=\">\")\n",
        "    print()\n",
        "    if(pred_value>0.5):\n",
        "        print(\"Potential Suicide Tweet\")\n",
        "    else:\n",
        "        print(\"Not a suicide Tweet\")"
      ],
      "metadata": {
        "id": "zAqEGKWVoo6M"
      },
      "execution_count": 100,
      "outputs": []
    },
    {
      "cell_type": "code",
      "source": [
        "userdef_tweet()"
      ],
      "metadata": {
        "colab": {
          "base_uri": "https://localhost:8080/"
        },
        "id": "273yxLJpu2Y0",
        "outputId": "63846c89-3627-4132-c322-f84f397cd40a"
      },
      "execution_count": 106,
      "outputs": [
        {
          "output_type": "stream",
          "name": "stdout",
          "text": [
            "Enter a tweet: If you've ever been suicidal or ARE suicidal, I hope this video helps you in any way. You..Are.Not.Alone.\n",
            "\n",
            "Your tweet is:  If you've ever been suicidal or ARE suicidal, I hope this video helps you in any way. You..Are.Not.Alone.\n",
            "1/1 [==============================] - 0s 32ms/step\n",
            "Predict Value is:  [[0.9735394]]\n",
            "[>>>>>>>>>>>>>>>>>>>>>>>>>>>>>>>>>>>>>>>>>>>>>>>>>>]\n",
            "Potential Suicide Tweet\n"
          ]
        }
      ]
    },
    {
      "cell_type": "code",
      "source": [
        "userdef_tweet()"
      ],
      "metadata": {
        "colab": {
          "base_uri": "https://localhost:8080/"
        },
        "id": "Mbyd8DCqsAtO",
        "outputId": "a8001891-047e-4edc-cab1-7399e55bfd43"
      },
      "execution_count": 102,
      "outputs": [
        {
          "output_type": "stream",
          "name": "stdout",
          "text": [
            "Enter a tweet: Feeling extremely hopeless today, can't bear it anymore\n",
            "\n",
            "Your tweet is:  Feeling extremely hopeless today, can't bear it anymore\n",
            "1/1 [==============================] - 0s 33ms/step\n",
            "Predict Value is:  [[0.0197282]]\n",
            "[>>>>>>>>>>>>>>>>>>>>>>>>>>>>>>>>>>>>>>>>>>>>>>>>>>]\n",
            "Not a suicide Tweet\n"
          ]
        }
      ]
    },
    {
      "cell_type": "code",
      "source": [
        "userdef_tweet()"
      ],
      "metadata": {
        "colab": {
          "base_uri": "https://localhost:8080/"
        },
        "id": "R4NeFzegsQBP",
        "outputId": "dcccb829-8e45-4f13-defc-5f6cd102f13a"
      },
      "execution_count": 103,
      "outputs": [
        {
          "output_type": "stream",
          "name": "stdout",
          "text": [
            "Enter a tweet: i just wanna die, everything sucks!\n",
            "\n",
            "Your tweet is:  i just wanna die, everything sucks!\n",
            "1/1 [==============================] - 0s 23ms/step\n",
            "Predict Value is:  [[0.9384505]]\n",
            "[>>>>>>>>>>>>>>>>>>>>>>>>>>>>>>>>>>>>>>>>>>>>>>>>>>]\n",
            "Potential Suicide Tweet\n"
          ]
        }
      ]
    },
    {
      "cell_type": "code",
      "source": [
        "userdef_tweet()"
      ],
      "metadata": {
        "colab": {
          "base_uri": "https://localhost:8080/"
        },
        "id": "SPVSFFaqszNn",
        "outputId": "190ba7b2-a337-4a82-ae1a-310c0360dc10"
      },
      "execution_count": 105,
      "outputs": [
        {
          "output_type": "stream",
          "name": "stdout",
          "text": [
            "Enter a tweet: The weight of emptiness presses down on my chest, making it hard to breathe. #Struggling\n",
            "\n",
            "Your tweet is:  The weight of emptiness presses down on my chest, making it hard to breathe. #Struggling\n",
            "1/1 [==============================] - 0s 47ms/step\n",
            "Predict Value is:  [[0.29191545]]\n",
            "[>>>>>>>>>>>>>>>>>>>>>>>>>>>>>>>>>>>>>>>>>>>>>>>>>>]\n",
            "Not a suicide Tweet\n"
          ]
        }
      ]
    },
    {
      "cell_type": "code",
      "source": [
        "userdef_tweet()"
      ],
      "metadata": {
        "colab": {
          "base_uri": "https://localhost:8080/"
        },
        "id": "ChA9V5qdsjCX",
        "outputId": "2a1247e9-a4ed-4635-fc8c-7d44dda80afa"
      },
      "execution_count": 104,
      "outputs": [
        {
          "output_type": "stream",
          "name": "stdout",
          "text": [
            "Enter a tweet: A winner is a dreamer who never gives up\n",
            "\n",
            "Your tweet is:  A winner is a dreamer who never gives up\n",
            "1/1 [==============================] - 0s 27ms/step\n",
            "Predict Value is:  [[0.03586114]]\n",
            "[>>>>>>>>>>>>>>>>>>>>>>>>>>>>>>>>>>>>>>>>>>>>>>>>>>]\n",
            "Not a suicide Tweet\n"
          ]
        }
      ]
    }
  ]
}